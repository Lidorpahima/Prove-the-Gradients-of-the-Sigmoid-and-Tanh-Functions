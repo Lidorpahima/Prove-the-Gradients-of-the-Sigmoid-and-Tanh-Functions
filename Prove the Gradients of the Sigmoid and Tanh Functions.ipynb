{
  "nbformat": 4,
  "nbformat_minor": 0,
  "metadata": {
    "colab": {
      "provenance": [],
      "authorship_tag": "ABX9TyN+UHIDfrDMwH+qT0zSdQsU",
      "include_colab_link": true
    },
    "kernelspec": {
      "name": "python3",
      "display_name": "Python 3"
    },
    "language_info": {
      "name": "python"
    }
  },
  "cells": [
    {
      "cell_type": "markdown",
      "metadata": {
        "id": "view-in-github",
        "colab_type": "text"
      },
      "source": [
        "<a href=\"https://colab.research.google.com/github/Lidorpahima/Assembly-Loops-and-Variables/blob/main/Prove%20the%20Gradients%20of%20the%20Sigmoid%20and%20Tanh%20Functions.ipynb\" target=\"_parent\"><img src=\"https://colab.research.google.com/assets/colab-badge.svg\" alt=\"Open In Colab\"/></a>"
      ]
    },
    {
      "cell_type": "code",
      "execution_count": null,
      "metadata": {
        "id": "PrtPEo8gD_1k"
      },
      "outputs": [],
      "source": []
    },
    {
      "cell_type": "markdown",
      "source": [
        "\n",
        "# **Homework #1: Prove the Gradients of the Sigmoid and Tanh Functions**"
      ],
      "metadata": {
        "id": "nKbtAyWQEEVH"
      }
    },
    {
      "cell_type": "markdown",
      "source": [
        "**Question 1:** Sigmoid Function Gradient\\\n",
        "The sigmoid function is defined as:\n",
        "\n",
        "$$\n",
        "\\sigma(x) = \\frac{1}{1 + e^{-x}}\n",
        "$$\n",
        "We need to show that the derivative of $\\sigma(x)$ can be expressed in terms of $\\sigma(x)$ itself:\n",
        "\n",
        "\n",
        "$$\n",
        "   \\frac{d\\sigma(x)}{dx} = \\sigma(x)(1 - \\sigma(x))\n",
        "   $$\n",
        "*Solution:*:\n",
        "$$\n",
        "\\sigma(x) = \\frac{1}{1 + e^{-x}}\n",
        "$$\n",
        "(1)*Using the Power Rule*:\n",
        "$$\\sigma(x) = \\left(1 + e^{-x}\\right)^{-1}$$\\\n",
        "(2)**Applying the quotient rule*:   $\\frac{d}{dx}\\left[\\frac{f(x)}{g(x)}\\right] = \\frac{f'(x) \\cdot g(x) - f(x) \\cdot g'(x)}{[g(x)]^2} $  ==> $|u = 1| |u' = 0| |v =1+e^{-x}| |v' = -e^{-x}|$*\n",
        "\n",
        "$$\n",
        "\\frac{d\\sigma(x)}{dx} = \\frac{0-(1*-e^{-x})}{(1 + e^{-x})^2}\n",
        "$$\n",
        "\n",
        "(3)*Simplify the expression*:\n",
        "$$\n",
        "\\frac{e^{-x}}{(1 + e^{-x})^2}\n",
        "$$\n",
        "(4)We know that $ \\sigma(x) = \\frac{1}{1 + e^{-x}} $  \n",
        "$$\n",
        "\\frac{e^{-x}}{(1 + e^{-x})^2} = e^{-x} \\cdot \\sigma(x)^2\n",
        "$$\n",
        "(5)Substitute starting from:\n",
        "$$ \\sigma(x) = \\frac{1}{1 + e^{-x}}= $$\n",
        "Step 1:\n",
        "$$ 1 + e^{-x} = \\frac{1}{\\sigma(x)}= $$\n",
        "Step 2:\n",
        "$$  e^{-x} = \\frac{1}{\\sigma(x)}+1 =$$\n",
        "Step 3:\n",
        "$$e^{-x} = \\frac{1 - \\sigma(x)}{\\sigma(x)}$$\n",
        "(6)Return to the expression in step (4) and substitute:\n",
        "$$ e^{-x} \\cdot \\sigma(x)^2 = \\frac{1 - \\sigma(x)}{\\sigma(x)} * \\sigma(x)^2   $$\n",
        "(7) *Final simplification*:\n",
        "$$ \\frac{d\\sigma(x)}{dx}= (1- \\sigma(x)) * \\sigma(x)  $$\n",
        "For conclousion we found that derivative of  sigmoid function is:  $ \\frac{d\\sigma(x)}{dx} = \\sigma(x)(1 - \\sigma(x)) $"
      ],
      "metadata": {
        "id": "_sp4BPFSEbF5"
      }
    },
    {
      "cell_type": "markdown",
      "source": [
        "**Question 2:** Tanh Function Gradient\\\n",
        "*The hyperbolic tangent function is defined as:*\n",
        "$$\n",
        "\\tanh(x) = \\frac{e^x - e^{-x}}{e^x + e^{-x}}\n",
        "$$\\\n",
        "*We need to show that the derivative of $\\sigma(x)$ can be expressed in terms of $\\sigma(x)$ itself:*\n",
        "\n",
        "   $$\n",
        "   \\frac{d\\tanh(x)}{dx} = 1 - \\tanh(x)^2\n",
        "   $$\n",
        "\n",
        "Soulution:\\\n",
        " (1)**Applying the quotient rule*:   $\\frac{d}{dx}\\left[\\frac{f(x)}{g(x)}\\right] = \\frac{f'(x) \\cdot g(x) - f(x) \\cdot g'(x)}{[g(x)]^2} $  ==> $|u = e^{x}-e^{-x} | |u' = e^{x}+e^{-x}| |v =e^{x}+e^{-x}| |v' = e^{x}-e^{-x}|$\n",
        "\n",
        "   $$\n",
        "   \\frac{d}{dx}\\tanh(x) = \\frac{(e^x - e^{-x})(e^x - e^{-x}) - (e^x + e^{-x})(e^x + e^{-x})}{(e^x + e^{-x})^2}\n",
        "   $$\n",
        "(2)*Simplify the expression:*\n",
        "$$\n",
        "  \\frac{d}{dx}\\tanh(x) = \\frac{(e^x + e^{-x})^{2} - (e^x - e^{-x})^{2}}{(e^x + e^{-x})^2} =((a^2-b^2 = (a-b)(a+b)) =>\n",
        "  \\frac{(-2e^{-x}) *(2e^{x})}{(e^x + e^{-x})^2}\n",
        "  $$\n",
        "$$ =\\frac{-4 }{(e^x + e^{-x})^2} $$\\\n",
        "(3)*Now lets back to the* $\\frac{d\\tanh(x)}{dx} = 1 - \\tanh(x)^2$ *and show equalisation*n \\\n",
        "*we also remember that* $\\tanh(x) = \\frac{e^x - e^{-x}}{e^x + e^{-x}}$\n",
        " $$ \\frac{d\\tanh(x)}{dx} = 1 - \\tanh(x)^2 = 1 - (\\frac{e^x - e^{-x}}{e^x + e^{-x}})^{2} =(\\frac{e^x + e^{-x}}{e^x + e^{-x}})^{2} -  (\\frac{e^x - e^{-x}}{e^x + e^{-x}})^{2}$$\\\n",
        "$$ = \\frac{(e^x + e^{-x})^{2} - (e^x - e^{-x})^{2}}{(e^x + e^{-x})^2} =We FoundBefore>\\frac{-4 }{(e^x + e^{-x})^2} == \\frac{d}{dx}\\tanh(x)  $$  \n",
        "\n",
        " *For conclousion we found that derivative of Tanh Function is:*  $\\frac{d\\tanh(x)}{dx} =\\frac{-4 }{(e^x + e^{-x})^2} =1 - \\tanh(x)^2  $"
      ],
      "metadata": {
        "id": "73Ti_hGS9FlS"
      }
    }
  ]
}